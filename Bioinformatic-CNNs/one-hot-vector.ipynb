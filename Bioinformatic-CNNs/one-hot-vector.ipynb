{
 "cells": [
  {
   "cell_type": "code",
   "execution_count": 85,
   "metadata": {},
   "outputs": [
    {
     "data": {
      "image/png": "[encoded data removed]",
      "text/plain": [
       "<Figure size 432x288 with 1 Axes>"
      ]
     },
     "metadata": {},
     "output_type": "display_data"
    }
   ],
   "source": [
    "# For the Biopython module we need to install Biopython in Anaconda Prompt\n",
    "# > conda install -c anaconda biopython\n",
    "\n",
    "import Bio\n",
    "import numpy as np\n",
    "import matplotlib\n",
    "import matplotlib.pyplot as plt\n",
    "from Bio.Seq import Seq\n",
    "from Bio.Alphabet import IUPAC\n",
    "from Bio.Align import MultipleSeqAlignment\n",
    "\n",
    "# Question 2 Part A\n",
    "string_1 = \"CTCTCTCTCTCTGATAAGGACAAGGCTGCTGTGAAAGCCCTATGG\"\n",
    "string_2 = \"CTGTCTCCTGCCGACAAGACCAACGTCAAGGCCGCCTGGGGTAAG\"\n",
    "\n",
    "seq_1 = Seq(string_1,IUPAC.unambiguous_dna)\n",
    "seq_2 = Seq(string_2,IUPAC.unambiguous_dna)\n",
    "\n",
    "subseq_1 = seq_1[:12]\n",
    "subseq_2 = seq_2[:12]\n",
    "\n",
    "# Define a general dot plot function for two sequences\n",
    "def dotplot(sequence_1,sequence_2):\n",
    "    sequence_1 = sequence_1\n",
    "    seq_1_list = list(sequence_1)\n",
    "    seq_2_list = list(sequence_2)\n",
    "    max_seq_length = max(len(sequence_1),len(sequence_2))\n",
    "    incidence_matrix = np.zeros((max_seq_length,max_seq_length),np.int)\n",
    "    for s1_index, s1_value in enumerate(sequence_1):\n",
    "        for s2_index, s2_value in enumerate(sequence_2):\n",
    "            if s1_value == s2_value:\n",
    "                incidence_matrix[s2_index,s1_index] = \"1\"\n",
    "    plt.imshow(paired_dot_plot, cmap = \"Purples\")\n",
    "    plt.yticks(np.arange(len(seq_1_list)),seq_1_list)\n",
    "    plt.xticks(np.arange(len(seq_2_list)),seq_2_list)\n",
    "    plt.ylabel(\"Sequence 1\")\n",
    "    plt.xlabel(\"Sequence 2\")\n",
    "    plt.title(\"Pairwise Dotplot for Aligned Sequences\")\n",
    "    plt.show    \n",
    "\n",
    "    \n",
    "# Call the function to print the dotplot    \n",
    "dotplot(subseq_1,subseq_2)     \n",
    "    \n",
    "\n",
    "                \n"
   ]
  },
  {
   "cell_type": "code",
   "execution_count": null,
   "metadata": {},
   "outputs": [],
   "source": []
  },
  {
   "cell_type": "code",
   "execution_count": null,
   "metadata": {},
   "outputs": [],
   "source": []
  }
 ],
 "metadata": {
  "kernelspec": {
   "display_name": "Python 3",
   "language": "python",
   "name": "python3"
  },
  "language_info": {
   "codemirror_mode": {
    "name": "ipython",
    "version": 3
   },
   "file_extension": ".py",
   "mimetype": "text/x-python",
   "name": "python",
   "nbconvert_exporter": "python",
   "pygments_lexer": "ipython3",
   "version": "3.6.5"
  }
 },
 "nbformat": 4,
 "nbformat_minor": 2
}
