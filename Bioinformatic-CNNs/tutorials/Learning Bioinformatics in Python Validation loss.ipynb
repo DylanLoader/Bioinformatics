{
 "cells": [
  {
   "cell_type": "markdown",
   "metadata": {},
   "source": [
    "# Learning Bioinformatics in Python\n",
    "Author: Dylan Loader"
   ]
  },
  {
   "cell_type": "markdown",
   "metadata": {},
   "source": [
    "# Project Python Code"
   ]
  },
  {
   "cell_type": "code",
   "execution_count": 1,
   "metadata": {},
   "outputs": [
    {
     "name": "stderr",
     "output_type": "stream",
     "text": [
      "C:\\Users\\Admin\\Anaconda3\\lib\\site-packages\\h5py\\__init__.py:36: FutureWarning: Conversion of the second argument of issubdtype from `float` to `np.floating` is deprecated. In future, it will be treated as `np.float64 == np.dtype(float).type`.\n",
      "  from ._conv import register_converters as _register_converters\n",
      "Using TensorFlow backend.\n"
     ]
    },
    {
     "name": "stdout",
     "output_type": "stream",
     "text": [
      "TensorFlow version: 1.13.1\n",
      "Current GPU used: \n"
     ]
    }
   ],
   "source": [
    "# Import statements\n",
    "import os\n",
    "from time import time\n",
    "from IPython.display import Image\n",
    "from pysster.Data import Data\n",
    "from pysster.Model import Model\n",
    "from pysster.Grid_Search import Grid_Search\n",
    "from pysster import utils\n",
    "\n",
    "# Generate a folder to hold the output\n",
    "output_folder = \"pysster_output/\"\n",
    "\n",
    "# Check to see if the output directory is in our path.\n",
    "# If it is not, generate the output folder\n",
    "if not os.path.isdir(output_folder):\n",
    "    os.makedirs(output_folder)\n",
    "    \n",
    "# Make sure tensorflow is installed and that our gpu is accessible\n",
    "import tensorflow as tf\n",
    "print(\"TensorFlow version: \"+ tf.__version__)\n",
    "print(\"Current GPU used: \"+ tf.test.gpu_device_name())\n",
    "# This should return something like\n",
    "# TensorFlow version: 1.12.0\n",
    "# Current GPU used: /device:GPU:0\n",
    "# If it returns GPU:0, the Jupyter notebook isn't recognizing your GPU.\n"
   ]
  },
  {
   "cell_type": "code",
   "execution_count": null,
   "metadata": {},
   "outputs": [],
   "source": [
    "import pdb"
   ]
  },
  {
   "cell_type": "code",
   "execution_count": 2,
   "metadata": {},
   "outputs": [],
   "source": [
    "# Load datasets of RNA A to I editing\n",
    "\n",
    "# Import the data using the ACGU alphabet for RNA and HIMS for proteins\n",
    "\n",
    "data = Data([\"data/alu.fa.gz\",\n",
    "             \"data/rep.fa.gz\"], (\"ACGU\", \"HIMS\")) \n"
   ]
  },
  {
   "cell_type": "code",
   "execution_count": 3,
   "metadata": {},
   "outputs": [
    {
     "name": "stdout",
     "output_type": "stream",
     "text": [
      "              class_0    class_1\n",
      "all data:       50000      50000\n",
      "training:       35117      34883\n",
      "validation:      7422       7578\n",
      "test:            7461       7539\n"
     ]
    }
   ],
   "source": [
    "print(data.get_summary())"
   ]
  },
  {
   "cell_type": "markdown",
   "metadata": {},
   "source": [
    "Segement the data into training,validation, and test sets."
   ]
  },
  {
   "cell_type": "code",
   "execution_count": null,
   "metadata": {},
   "outputs": [],
   "source": [
    "# Split the data into training/validation/test sets with the relative proportions 0.7/0.15/0.15\n",
    "# Seed is defined to allow users to replicate numbers\n",
    "data.train_val_test_split(portion_train=0.7, portion_val=0.15, seed=1775)\n",
    "print(data.get_summary())"
   ]
  },
  {
   "cell_type": "markdown",
   "metadata": {},
   "source": [
    "## Model Training and Summary\n"
   ]
  },
  {
   "cell_type": "code",
   "execution_count": 4,
   "metadata": {},
   "outputs": [
    {
     "name": "stdout",
     "output_type": "stream",
     "text": [
      "WARNING:tensorflow:From C:\\Users\\Admin\\Anaconda3\\lib\\site-packages\\tensorflow\\python\\ops\\control_flow_ops.py:423: colocate_with (from tensorflow.python.framework.ops) is deprecated and will be removed in a future version.\n",
      "Instructions for updating:\n",
      "Colocations handled automatically by placer.\n",
      "WARNING:tensorflow:From C:\\Users\\Admin\\Anaconda3\\lib\\site-packages\\keras\\backend\\tensorflow_backend.py:3445: calling dropout (from tensorflow.python.ops.nn_ops) with keep_prob is deprecated and will be removed in a future version.\n",
      "Instructions for updating:\n",
      "Please use `rate` instead of `keep_prob`. Rate should be set to `rate = 1 - keep_prob`.\n",
      "WARNING:tensorflow:From C:\\Users\\Admin\\Anaconda3\\lib\\site-packages\\tensorflow\\python\\ops\\math_ops.py:3066: to_int32 (from tensorflow.python.ops.math_ops) is deprecated and will be removed in a future version.\n",
      "Instructions for updating:\n",
      "Use tf.cast instead.\n",
      "Epoch 1/2\n",
      "547/547 [==============================] - 48s 87ms/step - loss: 0.4582 - val_loss: 0.2110\n",
      "Epoch 2/2\n",
      "547/547 [==============================] - 47s 87ms/step - loss: 0.2510 - val_loss: 0.1613\n",
      "time in minutes: 1.6452104568481445\n"
     ]
    }
   ],
   "source": [
    "model = Model({\"conv_num\": 2, \"kernel_num\": 10, \"kernel_len\": 10, \"epochs\": 2}, data)\n",
    "# Record the stop and start times to see how long our training takes.\n",
    "start = time()\n",
    "model.train(data, verbose=True)\n",
    "stop = time()\n",
    "print(\"time in minutes: {}\".format((stop-start)/60))"
   ]
  },
  {
   "cell_type": "code",
   "execution_count": 13,
   "metadata": {},
   "outputs": [
    {
     "data": {
      "text/plain": [
       "[]"
      ]
     },
     "execution_count": 13,
     "metadata": {},
     "output_type": "execute_result"
    }
   ],
   "source": [
    "model.model.\n",
    "\n"
   ]
  },
  {
   "cell_type": "code",
   "execution_count": null,
   "metadata": {},
   "outputs": [],
   "source": [
    "print(model.model.metrics_names[0])\n"
   ]
  },
  {
   "cell_type": "markdown",
   "metadata": {},
   "source": [
    "From the model summary we see that the ROC-AUC is maximized when we use the model with no dropout. Since the ROC-AUC metric in this step is based on the validation data we may find that the out of sample prediction in the test set is poor, suggesting that the model over fits the training and validation sets. Dropping out connections between the layers of our network adds a degree of 'randomness' by disconnecting contiguous nodes in the network, and can often lead to better preditive power overall."
   ]
  },
  {
   "cell_type": "markdown",
   "metadata": {},
   "source": [
    "# Evaluation of Model Performance\n",
    "\n",
    "We first look at the summary to 'visualize' in some sense to see the layers are set up. The dropout layers are still included in the model even though the optimal model was found to not require dropout. "
   ]
  },
  {
   "cell_type": "code",
   "execution_count": null,
   "metadata": {},
   "outputs": [],
   "source": [
    "model.model.summary()\n"
   ]
  },
  {
   "cell_type": "code",
   "execution_count": null,
   "metadata": {},
   "outputs": [],
   "source": [
    "test_predictions = model.predict(data,\"test\")\n",
    "print(\"Test Prediction Values\")\n",
    "print(test_predictions)\n",
    "\n",
    "# Retrieve the labels of the test set\n",
    "test_labels = data.get_labels(\"test\")\n",
    "print(\"Test Labels\")\n",
    "print(test_labels)"
   ]
  },
  {
   "cell_type": "code",
   "execution_count": null,
   "metadata": {},
   "outputs": [],
   "source": [
    "utils.plot_roc(test_labels, test_predictions, output_folder+\"roc.png\")\n",
    "utils.plot_prec_recall(test_labels, test_predictions, output_folder+\"prec.png\")\n",
    "print(utils.get_performance_report(test_labels, test_predictions))\n",
    "\n",
    "Image(output_folder+\"roc.png\")"
   ]
  },
  {
   "cell_type": "code",
   "execution_count": null,
   "metadata": {},
   "outputs": [],
   "source": [
    "Image(output_folder+\"prec.png\")"
   ]
  },
  {
   "cell_type": "code",
   "execution_count": null,
   "metadata": {},
   "outputs": [],
   "source": [
    "utils.save_data(data, output_folder+\"data.pkl\")\n",
    "utils.save_model(model, output_folder+\"model.pkl\")"
   ]
  },
  {
   "cell_type": "markdown",
   "metadata": {},
   "source": [
    "# Resources\n",
    "\n",
    "I will try to keep the resources used up to date and give credit to the fantastic people who dedicate themselves to teaching others in this section.\n",
    "\n",
    "## Bioinformatics\n",
    "\n",
    "Introductory Youtube series for BI: https://www.youtube.com/watch?v=UkSLdj_RRps&index=5&list=PL6yVKsUPBjJYXhGPlD8tAOglqefPBy35x\n",
    "\n",
    "Book for BI: 'Elementary Sequence Analysis' by Brian Golding, Dick Morton and Wilfried Haerty \n",
    "http://helix.mcmaster.ca/3S03_2011.pdf\n",
    "\n",
    "RNA A to I Editing: https://en.wikipedia.org/wiki/RNA_editing\n",
    "\n",
    "\n",
    "## Python3\n",
    "\n",
    "Getting tensorflow top recognize my gpu in windows: https://www.pugetsystems.com/labs/hpc/The-Best-Way-to-Install-TensorFlow-with-GPU-Support-on-Windows-10-Without-Installing-CUDA-1187/\n",
    "\n",
    "It is very important to make sure you install tensorflow-gpu, for some reason Jupyter wouldn't recognize my GPU (RTX2070) using the suggested version of tensorflow.\n",
    "\n",
    "## Machine Learning\n",
    "\n",
    "For background information on Machine Learning: \"Hands-On Machine Learning with Scikit-Learn and TensorFlow: Concepts, Tools, and Techniques to Build Intelligent Systems\" by Aurélien Géron. It is really a great resource so far and I am hoping Tensorflow V2 is included in the new edition.\n",
    "\n",
    "## Jupyter Notebooks\n",
    "\n",
    "For visual styling in Jupyter: https://github.com/jupyter/jupyter/wiki/A-gallery-of-interesting-Jupyter-Notebooks\n",
    "\n"
   ]
  }
 ],
 "metadata": {
  "kernelspec": {
   "display_name": "Python 3",
   "language": "python",
   "name": "python3"
  },
  "language_info": {
   "codemirror_mode": {
    "name": "ipython",
    "version": 3
   },
   "file_extension": ".py",
   "mimetype": "text/x-python",
   "name": "python",
   "nbconvert_exporter": "python",
   "pygments_lexer": "ipython3",
   "version": "3.6.5"
  }
 },
 "nbformat": 4,
 "nbformat_minor": 2
}
