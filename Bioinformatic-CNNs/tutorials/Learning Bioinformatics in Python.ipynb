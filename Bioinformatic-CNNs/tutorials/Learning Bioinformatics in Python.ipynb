{
 "cells": [
  {
   "cell_type": "markdown",
   "metadata": {},
   "source": [
    "# Learning Bioinformatics in Python\n",
    "Author: Dylan Loader"
   ]
  },
  {
   "cell_type": "markdown",
   "metadata": {},
   "source": [
    "# Introduction\n",
    "\n",
    "**Disclaimer**: To be completely transparent, I am not a Biologist, Bioinformatician, or Chemist of any kind. The last Biology course I took was in Winter 2014, recieving a C in Introduction to Cell Biology. There will  be places where I make gross over generalizations and if you find yourself saying:\n",
    "\n",
    "<img src=\"correction.png\" width=\"200\">\n",
    "\n",
    "Please contact me and correct me so this tutorial doesn't misguide anyone, no problem is too small to contact me about. \n",
    "\n",
    "\n",
    "## Motivation\n",
    "\n",
    "This project will be an open exporation into the world of Bioinformatics (BI) for use in my project for MDSC 401 and STAT 641 at the University of Calgary. MDSC401 is Introduction to Bioinformatics, which covers an array of topics from Sequence Alignment to Markov Models. STAT543 is Statistical Learning, and is focused on understanding the fundamentals in Machine Learning techniques from a Statistical background. \n",
    "\n",
    "I am purposely choosing some fields here I am weak in to force myself to sink or swim in learning about these topics. Here are the topics:\n",
    "\n",
    "* Bioinformatics\n",
    "* Python3\n",
    "* Machine Learning (Specifically CNNs)\n",
    "* Jupyter Notebooks\n",
    "\n",
    "\n",
    "At the current time I have little background in any of this and hope that S-T-ruggling through it will serve as informative, or a warning of sorts to anyone who comes across this. "
   ]
  },
  {
   "cell_type": "markdown",
   "metadata": {},
   "source": [
    "# Resources\n",
    "\n",
    "I will try to keep the resources used up to date and give credit to the fantastic people who dedicate themselves to teaching others in this section.\n",
    "\n",
    "## Bioinformatics\n",
    "\n",
    "Introductory Youtube series for BI: https://www.youtube.com/watch?v=UkSLdj_RRps&index=5&list=PL6yVKsUPBjJYXhGPlD8tAOglqefPBy35x\n",
    "\n",
    "Book for BI: 'Elementary Sequence Analysis' by Brian Golding, Dick Morton and Wilfried Haerty \n",
    "http://helix.mcmaster.ca/3S03_2011.pdf\n",
    "\n",
    "RNA A to I Editing: https://en.wikipedia.org/wiki/RNA_editing\n",
    "\n",
    "\n",
    "## Python3\n",
    "\n",
    "Getting tensorflow top recognize my gpu in windows: https://www.pugetsystems.com/labs/hpc/The-Best-Way-to-Install-TensorFlow-with-GPU-Support-on-Windows-10-Without-Installing-CUDA-1187/\n",
    "\n",
    "It is very important to make sure you install tensorflow-gpu, for some reason Jupyter wouldn't recognize my GPU (RTX2070) using the suggested version of tensorflow.\n",
    "\n",
    "## Machine Learning\n",
    "\n",
    "For background information on Machine Learning: \"Hands-On Machine Learning with Scikit-Learn and TensorFlow: Concepts, Tools, and Techniques to Build Intelligent Systems\" by Aurélien Géron. It is really a great resource so far and I am hoping Tensorflow V2 is included in the new edition.\n",
    "\n",
    "## Jupyter Notebooks\n",
    "\n",
    "For visual styling in Jupyter: https://github.com/jupyter/jupyter/wiki/A-gallery-of-interesting-Jupyter-Notebooks\n",
    "\n"
   ]
  },
  {
   "cell_type": "markdown",
   "metadata": {},
   "source": [
    "# RNA A to I Editing\n",
    "\n",
    "Primary resource: https://www.youtube.com/channel/UCEPMCywJ6FPZpQ_aPEZt5JA\n",
    "\n",
    "My project focuses mainly on data from the RNA A to I database [REDIportal](http://srv00.recas.ba.infn.it/atlas/).\n",
    "RNA A to I Editing is a useful process in which cells can use a genome of limited size to generate a greater number of proteins. This process has been recorded in both Prokaryotic and Eukaryotic cells.\n",
    "\n",
    "## A crash course in RNA editing\n",
    "\n",
    "Eukaryotes differ from prokaryotes in that prokaryotes do not have intron and exon regions in their RNA. This has to do with many factors including the limited size of the chromosome in prokaryotes relative to that of eukaryotes. \n"
   ]
  },
  {
   "cell_type": "markdown",
   "metadata": {},
   "source": [
    "# Project Python Code"
   ]
  },
  {
   "cell_type": "code",
   "execution_count": 1,
   "metadata": {},
   "outputs": [
    {
     "name": "stderr",
     "output_type": "stream",
     "text": [
      "Using TensorFlow backend.\n"
     ]
    },
    {
     "name": "stdout",
     "output_type": "stream",
     "text": [
      "TensorFlow version: 1.12.0\n",
      "Current GPU used: /device:GPU:0\n"
     ]
    }
   ],
   "source": [
    "# Import statements\n",
    "import os\n",
    "from time import time\n",
    "from IPython.display import Image\n",
    "from pysster.Data import Data\n",
    "from pysster.Grid_Search import Grid_Search\n",
    "from pysster import utils\n",
    "\n",
    "# Generate a folder to hold the output\n",
    "output_folder = \"pysster_output/\"\n",
    "\n",
    "# Check to see if the output directory is in our path.\n",
    "# If it is not, generate the output folder\n",
    "if not os.path.isdir(output_folder):\n",
    "    os.makedirs(output_folder)\n",
    "    \n",
    "# Make sure tensorflow is installed and that our gpu is accessible\n",
    "import tensorflow as tf\n",
    "print(\"TensorFlow version: \"+ tf.__version__)\n",
    "print(\"Current GPU used: \"+ tf.test.gpu_device_name())\n",
    "# This should return something like\n",
    "# TensorFlow version: 1.12.0\n",
    "# Current GPU used: /device:GPU:0\n",
    "# If it returns GPU:0, the Jupyter notebook isn't recognizing your GPU.\n"
   ]
  },
  {
   "cell_type": "code",
   "execution_count": 4,
   "metadata": {},
   "outputs": [
    {
     "name": "stdout",
     "output_type": "stream",
     "text": [
      "              class_0    class_1    class_2\n",
      "all data:       50000      50000      50000\n",
      "training:       34931      34978      35091\n",
      "validation:      7510       7536       7454\n",
      "test:            7559       7486       7455\n"
     ]
    }
   ],
   "source": [
    "# Load datasets of RNA A to I editing\n",
    "\n",
    "# Import the data using the ACGU alphabet for RNA and HIMS for proteins\n",
    "data = Data([\"data/alu.fa.gz\",\n",
    "             \"data/rep.fa.gz\",\n",
    "             \"data/nonrep.fa.gz\"], (\"ACGU\", \"HIMS\")) \n",
    "\n",
    "print(data.get_summary())"
   ]
  },
  {
   "cell_type": "markdown",
   "metadata": {},
   "source": []
  },
  {
   "cell_type": "code",
   "execution_count": null,
   "metadata": {},
   "outputs": [],
   "source": [
    "\n",
    "data.train_val_test_split(portion_train=0.7, portion_val=0.15, seed=1775)\n",
    "print(data.get_summary())"
   ]
  }
 ],
 "metadata": {
  "kernelspec": {
   "display_name": "Python 3",
   "language": "python",
   "name": "python3"
  },
  "language_info": {
   "codemirror_mode": {
    "name": "ipython",
    "version": 3
   },
   "file_extension": ".py",
   "mimetype": "text/x-python",
   "name": "python",
   "nbconvert_exporter": "python",
   "pygments_lexer": "ipython3",
   "version": "3.6.7"
  }
 },
 "nbformat": 4,
 "nbformat_minor": 2
}
